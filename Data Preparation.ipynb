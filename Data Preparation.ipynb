{
 "cells": [
  {
   "cell_type": "code",
   "execution_count": 1,
   "metadata": {
    "collapsed": true
   },
   "outputs": [],
   "source": [
    "import numpy as np\n",
    "\n",
    "import matplotlib.pyplot as plt\n",
    "import matplotlib.style as ms\n",
    "ms.use('seaborn-muted')\n",
    "%matplotlib inline\n",
    "\n",
    "import librosa\n",
    "import librosa.display\n",
    "import IPython.display\n",
    "\n",
    "import os\n",
    "import sys"
   ]
  },
  {
   "cell_type": "code",
   "execution_count": 2,
   "metadata": {
    "collapsed": true
   },
   "outputs": [],
   "source": [
    "class FeatureExtraction:\n",
    "    def __init__(self, filename, n_mels=128):\n",
    "        try:\n",
    "            if not os.path.exists(filename) or not os.path.isfile(filename):\n",
    "                raise\n",
    "            self.filename = filename\n",
    "        except:\n",
    "            sys.exit(filename + \" does not exists or is not a file\")\n",
    "        self.n_mels = n_mels\n",
    "        self.y = None\n",
    "        self.sr = None\n",
    "        self.S = None\n",
    "        self.log_S = None\n",
    "        self.mfcc = None\n",
    "        self.delta_mfcc = None\n",
    "        self.delta2_mfcc = None\n",
    "        self.M = None\n",
    "        self.rmse = None\n",
    "    \n",
    "    def loadFile(self):\n",
    "        self.y, self.sr = librosa.load(self.filename)\n",
    "    \n",
    "    def melspectrogram(self):\n",
    "        self.S = librosa.feature.melspectrogram(self.y, sr=self.sr, n_mels=self.n_mels)\n",
    "        self.log_S = librosa.logamplitude(self.S, ref_power=np.max)\n",
    "    \n",
    "    def plotmelspectrogram(self):\n",
    "        plt.figure(figsize=(12, 4))\n",
    "        librosa.display.specshow(self.log_S, sr=self.sr, x_axis='time', y_axis='mel')\n",
    "        plt.title('mel Power Spectrogram')\n",
    "        plt.colorbar(format='%+02.0f dB')\n",
    "        plt.tight_layout()\n",
    "    \n",
    "    def extractmfcc(self, n_mfcc=13):\n",
    "        self.mfcc = librosa.feature.mfcc(S=self.log_S, n_mfcc=n_mfcc)\n",
    "        self.delta_mfcc = librosa.feature.delta(self.mfcc)\n",
    "        self.delta2_mfcc = librosa.feature.delta(self.mfcc, order=2)\n",
    "        self.M = np.vstack([self.mfcc, self.delta_mfcc, self.delta2_mfcc])\n",
    "    \n",
    "    def plotmfcc(self):\n",
    "        plt.figure(figsize=(12, 6))\n",
    "        plt.subplot(3, 1, 1)\n",
    "        librosa.display.specshow(self.mfcc)\n",
    "        plt.ylabel('MFCC')\n",
    "        plt.colorbar()\n",
    "        \n",
    "        plt.subplot(3, 1, 2)\n",
    "        librosa.display.specshow(self.delta_mfcc)\n",
    "        plt.ylabel('MFCC-$\\Delta$')\n",
    "        plt.colorbar()\n",
    "        \n",
    "        plt.subplot(3, 1, 3)\n",
    "        librosa.display.specshow(self.delta2_mfcc, sr=self.sr, x_axis='time')\n",
    "        plt.ylabel('MFCC-$\\Delta^2$')\n",
    "        plt.colorbar()\n",
    "        \n",
    "        plt.tight_layout()\n",
    "    \n",
    "    def extractrmse(self):\n",
    "        self.rmse = librosa.feature.rmse(y=self.y)"
   ]
  },
  {
   "cell_type": "code",
   "execution_count": 3,
   "metadata": {},
   "outputs": [],
   "source": [
    "class Dataset:\n",
    "    def __init__(self, datasetDir, datasetLabelFilename):\n",
    "        try:\n",
    "            if not os.path.exists(datasetDir) or not os.path.isdir(datasetDir):\n",
    "                raise\n",
    "            self.datasetDir = datasetDir\n",
    "        except:\n",
    "            sys.exit(datasetDir + \" does not exists or is not a directory\")\n",
    "        \n",
    "        try:\n",
    "            if not os.path.exists(datasetLabelFilename) or not os.path.isfile(datasetLabelFilename):\n",
    "                raise\n",
    "            self.datasetLabelFilename = datasetLabelFilename\n",
    "        except:\n",
    "            sys.exit(datasetLabelFilename + \" does not exists or is not a file\")\n",
    "        \n",
    "        self.n_features = 28\n",
    "        self.X = np.empty(shape=(0, self.n_features))\n",
    "        self.Y = np.empty(shape=(0, 1))\n",
    "        \n",
    "    \n",
    "    def build(self):\n",
    "        with open(self.datasetLabelFilename, 'r') as datasetLabelFile:\n",
    "            filesProcessed=0\n",
    "            for line in datasetLabelFile:\n",
    "                lineSplit = line.strip().split(' ')\n",
    "                audiofilename = lineSplit[0]\n",
    "                label = lineSplit[1]\n",
    "                try:\n",
    "                    features = FeatureExtraction(os.path.join(self.datasetDir, audiofilename))\n",
    "                    features.loadFile()\n",
    "                    features.melspectrogram()\n",
    "                    features.extractmfcc()\n",
    "                    features.extractrmse()\n",
    "                except ValueError:\n",
    "                    print(\"[ERROR] Error in file \" + audiofilename)\n",
    "                    continue\n",
    "                \n",
    "                featureVector = []\n",
    "                for feature in features.mfcc:\n",
    "                    featureVector.append(np.mean(feature))\n",
    "                    featureVector.append(np.var(feature))\n",
    "                \n",
    "                featureVector.append(np.mean(features.rmse))\n",
    "                featureVector.append(np.var(features.rmse))\n",
    "                \n",
    "                self.X = np.vstack((self.X, [featureVector]))\n",
    "                \n",
    "                if label == \"STUTTER\":\n",
    "                    self.Y = np.vstack((self.Y, [1]))\n",
    "                elif label == \"NORMAL\":\n",
    "                    self.Y = np.vstack((self.Y, [0]))\n",
    "                else:\n",
    "                    sys.exit(\"Unexpected label: \" + label)\n",
    "                \n",
    "                filesProcessed += 1\n",
    "                if filesProcessed % 1000 == 0:\n",
    "                    print(\"[INFO] Files processed:\", filesProcessed)\n",
    "            \n",
    "            print(\"-----------------------------\")\n",
    "            print(\"[INFO] Total files processed:\", filesProcessed)\n",
    "    \n",
    "    def writeToFile(self, filename):\n",
    "        if os.path.exists(filename):\n",
    "            os.remove(filename)\n",
    "        np.savetxt(filename, np.hstack((self.X, self.Y)))\n",
    "        print(\"[INFO] Array stored in file\", filename)\n",
    "    \n",
    "    def readFromFile(self, filename):\n",
    "        if not os.path.exists(filename) or not os.path.isfile(filename):\n",
    "            sys.exit(filename + \" does not exists or is not a file\")\n",
    "        matrix = np.loadtxt(filename)\n",
    "        self.X = matrix[:, 0:self.n_features]\n",
    "        self.Y = matrix[:, self.n_features:]"
   ]
  },
  {
   "cell_type": "code",
   "execution_count": 4,
   "metadata": {},
   "outputs": [],
   "source": [
    "dataset = Dataset('dataset', 'datasetLabels.txt')"
   ]
  },
  {
   "cell_type": "code",
   "execution_count": 5,
   "metadata": {},
   "outputs": [
    {
     "name": "stdout",
     "output_type": "stream",
     "text": [
      "[INFO] Files processed: 1000\n",
      "[INFO] Files processed: 2000\n",
      "[ERROR] Error in file M_1103_20y0m_1:241344:241344.wav\n",
      "[INFO] Files processed: 3000\n",
      "[INFO] Files processed: 4000\n",
      "[ERROR] Error in file M_1105_21y0m_1:831719:831719.wav\n",
      "[INFO] Files processed: 5000\n",
      "[INFO] Files processed: 6000\n",
      "[INFO] Files processed: 7000\n",
      "[INFO] Files processed: 8000\n",
      "[INFO] Files processed: 9000\n",
      "[INFO] Files processed: 10000\n",
      "[INFO] Files processed: 11000\n",
      "[INFO] Files processed: 12000\n",
      "-----------------------------\n",
      "[INFO] Total files processed: 12631\n"
     ]
    }
   ],
   "source": [
    "dataset.build()"
   ]
  },
  {
   "cell_type": "code",
   "execution_count": 6,
   "metadata": {},
   "outputs": [
    {
     "name": "stdout",
     "output_type": "stream",
     "text": [
      "[INFO] Array stored in file datasetArray.gz\n"
     ]
    }
   ],
   "source": [
    "dataset.writeToFile(\"datasetArray.gz\")"
   ]
  }
 ],
 "metadata": {
  "kernelspec": {
   "display_name": "Python 3",
   "language": "python",
   "name": "python3"
  },
  "language_info": {
   "codemirror_mode": {
    "name": "ipython",
    "version": 3
   },
   "file_extension": ".py",
   "mimetype": "text/x-python",
   "name": "python",
   "nbconvert_exporter": "python",
   "pygments_lexer": "ipython3",
   "version": "3.6.3"
  }
 },
 "nbformat": 4,
 "nbformat_minor": 2
}
