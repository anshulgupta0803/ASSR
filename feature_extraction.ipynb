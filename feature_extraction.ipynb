{
 "cells": [
  {
   "cell_type": "code",
   "execution_count": 7,
   "metadata": {
    "collapsed": false
   },
   "outputs": [],
   "source": [
    "from __future__ import print_function\n",
    "import librosa\n",
    "import numpy as np"
   ]
  },
  {
   "cell_type": "code",
   "execution_count": 37,
   "metadata": {
    "collapsed": true
   },
   "outputs": [],
   "source": [
    "class FeatureExtraction:\n",
    "    filename = None\n",
    "    y = None\n",
    "    sr = None\n",
    "    max_sample_vector_size = 660000\n",
    "    duration = 30\n",
    "    spectrogram = None\n",
    "    spectrogram_phase = None\n",
    "    rolloff = None\n",
    "    centroid = None\n",
    "    zero_crossing_rate = None\n",
    "    spectral_contrast = None\n",
    "    mfcc = None\n",
    "    rmse = None\n",
    "    duration1 = None\n",
    "    \n",
    "    def __init__(self, filename, duration=30):\n",
    "        self.filename = filename\n",
    "        self.duration = duration\n",
    "        self.reloadAudioFile(duration)\n",
    "    \n",
    "    def reloadAudioFile(self, duration=30):\n",
    "        self.y, self.sr = librosa.load(self.filename, duration=duration)\n",
    "        self.y = self.y[:self.max_sample_vector_size]\n",
    "    \n",
    "    def getSTFT(self):\n",
    "        self.stft = librosa.stft(self.y)\n",
    "        return self.stft\n",
    "    \n",
    "    def getSpectrogram(self):\n",
    "        self.spectrogram, self.spectrogram_phase = librosa.magphase(self.getSTFT())\n",
    "        return self.spectrogram, self.spectrogram_phase\n",
    "    \n",
    "    def getSpectralRolloff(self):\n",
    "        self.rolloff = librosa.feature.rolloff(y=self.y, sr=self.sr)\n",
    "        return self.rolloff\n",
    "    \n",
    "    def getCentroid(self):\n",
    "        self.spectral_centroid = librosa.feature.spectral_centroid(y=self.y, sr=self.sr)\n",
    "        return self.spectral_centroid\n",
    "    \n",
    "    def getZeroCrossing(self):\n",
    "        self.zero_crossing_rate = librosa.feature.zero_crossing_rate(y=self.y)\n",
    "        return self.zero_crossing_rate\n",
    "    \n",
    "    def getSpectralContrast(self):\n",
    "        S = np.abs(self.getSTFT())\n",
    "        self.spectral_contrast = librosa.feature.spectral_contrast(y=self.y, sr=self.sr, S=S)\n",
    "        return self.spectral_contrast\n",
    "    \n",
    "    def getMFCC(self):\n",
    "        self.mfcc = librosa.feature.mfcc(y=self.y, sr=self.sr, hop_length=512, n_mfcc=13, S=np.abs(self.getSTFT()))\n",
    "        return self.mfcc\n",
    "    \n",
    "    def getRMS(self):\n",
    "        self.rmse = librosa.feature.rmse(y=self.y)\n",
    "        return self.rmse\n",
    "    \n",
    "    def getDuration(self):\n",
    "        self.duration1 = librosa.get_duration(y=self.y, sr=self.sr)\n",
    "        return self.duration1"
   ]
  },
  {
   "cell_type": "code",
   "execution_count": 41,
   "metadata": {
    "collapsed": true
   },
   "outputs": [],
   "source": [
    "fe = FeatureExtraction(filename='wav/release1/M_0017_08y9m_1.wav')"
   ]
  },
  {
   "cell_type": "code",
   "execution_count": 42,
   "metadata": {
    "collapsed": false
   },
   "outputs": [
    {
     "ename": "ModuleNotFoundError",
     "evalue": "No module named 'tensorflow'",
     "output_type": "error",
     "traceback": [
      "\u001b[0;31m---------------------------------------------------------------------------\u001b[0m",
      "\u001b[0;31mModuleNotFoundError\u001b[0m                       Traceback (most recent call last)",
      "\u001b[0;32m<ipython-input-42-41389fad42b5>\u001b[0m in \u001b[0;36m<module>\u001b[0;34m()\u001b[0m\n\u001b[0;32m----> 1\u001b[0;31m \u001b[0;32mimport\u001b[0m \u001b[0mtensorflow\u001b[0m \u001b[0;32mas\u001b[0m \u001b[0mtf\u001b[0m\u001b[0;34m\u001b[0m\u001b[0m\n\u001b[0m",
      "\u001b[0;31mModuleNotFoundError\u001b[0m: No module named 'tensorflow'"
     ]
    }
   ],
   "source": [
    "import tensorflow as tf"
   ]
  }
 ],
 "metadata": {
  "kernelspec": {
   "display_name": "Python 3",
   "language": "python",
   "name": "python3"
  },
  "language_info": {
   "codemirror_mode": {
    "name": "ipython",
    "version": 3
   },
   "file_extension": ".py",
   "mimetype": "text/x-python",
   "name": "python",
   "nbconvert_exporter": "python",
   "pygments_lexer": "ipython3",
   "version": "3.6.3"
  }
 },
 "nbformat": 4,
 "nbformat_minor": 2
}
